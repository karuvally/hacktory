{
 "cells": [
  {
   "cell_type": "code",
   "execution_count": 37,
   "metadata": {},
   "outputs": [],
   "source": [
    "# import serious stuff\n",
    "import csv"
   ]
  },
  {
   "cell_type": "code",
   "execution_count": 38,
   "metadata": {},
   "outputs": [],
   "source": [
    "# get input file\n",
    "raw_dataset_file = open(\"favorita_sample.csv\", \"r\", newline = \"\")\n",
    "raw_dataset = csv.reader(raw_dataset_file)"
   ]
  },
  {
   "cell_type": "code",
   "execution_count": 39,
   "metadata": {},
   "outputs": [],
   "source": [
    "# setup the output file\n",
    "prepared_dataset_file = open(\"favorita_sample_prepared.csv\", \"w\", newline = \"\")\n",
    "prepared_dataset = csv.writer(prepared_dataset_file)"
   ]
  },
  {
   "cell_type": "code",
   "execution_count": 40,
   "metadata": {},
   "outputs": [],
   "source": [
    "# preprocess data\n",
    "\n",
    "for row in raw_dataset:\n",
    "    if row[0] == \"id\":\n",
    "        continue\n",
    "    \n",
    "    preprocessed_row = []\n",
    "    \n",
    "    formatted_date = row[1].split('-')\n",
    "    preprocessed_row.append(formatted_date[0])\n",
    "    preprocessed_row.append(formatted_date[1])\n",
    "    preprocessed_row.append(formatted_date[2])\n",
    "    \n",
    "    preprocessed_row.append(row[2])\n",
    "    preprocessed_row.append(row[3])\n",
    "    preprocessed_row.append(row[4])\n",
    "    \n",
    "    prepared_dataset.writerow(preprocessed_row)"
   ]
  },
  {
   "cell_type": "code",
   "execution_count": 41,
   "metadata": {},
   "outputs": [],
   "source": [
    "# close the files\n",
    "raw_dataset_file.close()\n",
    "prepared_dataset_file.close()"
   ]
  },
  {
   "cell_type": "code",
   "execution_count": null,
   "metadata": {},
   "outputs": [],
   "source": []
  },
  {
   "cell_type": "code",
   "execution_count": null,
   "metadata": {},
   "outputs": [],
   "source": []
  }
 ],
 "metadata": {
  "kernelspec": {
   "display_name": "Python 3",
   "language": "python",
   "name": "python3"
  },
  "language_info": {
   "codemirror_mode": {
    "name": "ipython",
    "version": 3
   },
   "file_extension": ".py",
   "mimetype": "text/x-python",
   "name": "python",
   "nbconvert_exporter": "python",
   "pygments_lexer": "ipython3",
   "version": "3.5.3"
  }
 },
 "nbformat": 4,
 "nbformat_minor": 2
}
