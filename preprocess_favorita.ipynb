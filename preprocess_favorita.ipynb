{
 "cells": [
  {
   "cell_type": "code",
   "execution_count": 38,
   "metadata": {},
   "outputs": [],
   "source": [
    "# import serious stuff\n",
    "import csv"
   ]
  },
  {
   "cell_type": "code",
   "execution_count": 39,
   "metadata": {},
   "outputs": [],
   "source": [
    "# get input file\n",
    "raw_dataset_file = open(\"favorita_raw.csv\", \"r\")\n",
    "raw_dataset = csv.reader(raw_dataset_file)"
   ]
  },
  {
   "cell_type": "code",
   "execution_count": 40,
   "metadata": {},
   "outputs": [],
   "source": [
    "# setup the output file\n",
    "prepared_dataset_file = open(\"favorita_prepared.csv\", \"w\")\n",
    "prepared_dataset = csv.writer(prepared_dataset_file)"
   ]
  },
  {
   "cell_type": "code",
   "execution_count": 41,
   "metadata": {},
   "outputs": [],
   "source": [
    "# load raw dataset and write prepared dataset\n",
    "for row in raw_dataset:\n",
    "    if row[0] == \"id\":\n",
    "        continue\n",
    "    \n",
    "    prepared_row = []\n",
    "    \n",
    "    date = row[1].split('-')\n",
    "    prepared_row.append(date[0])\n",
    "    prepared_row.append(date[1])\n",
    "    prepared_row.append(date[2])\n",
    "    \n",
    "    prepared_row.append(row[2])\n",
    "    prepared_row.append(row[3])\n",
    "    \n",
    "    prepared_dataset.writerow(prepared_row)"
   ]
  },
  {
   "cell_type": "code",
   "execution_count": 37,
   "metadata": {},
   "outputs": [],
   "source": [
    "# close the files\n",
    "raw_dataset_file.close()\n",
    "prepared_dataset_file.close()"
   ]
  },
  {
   "cell_type": "code",
   "execution_count": null,
   "metadata": {},
   "outputs": [],
   "source": []
  }
 ],
 "metadata": {
  "kernelspec": {
   "display_name": "Python 3",
   "language": "python",
   "name": "python3"
  },
  "language_info": {
   "codemirror_mode": {
    "name": "ipython",
    "version": 3
   },
   "file_extension": ".py",
   "mimetype": "text/x-python",
   "name": "python",
   "nbconvert_exporter": "python",
   "pygments_lexer": "ipython3",
   "version": "3.5.3"
  }
 },
 "nbformat": 4,
 "nbformat_minor": 2
}
